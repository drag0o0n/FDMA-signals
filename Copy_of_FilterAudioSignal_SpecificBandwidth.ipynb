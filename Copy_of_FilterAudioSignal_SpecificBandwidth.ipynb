{
  "cells": [
    {
      "cell_type": "markdown",
      "metadata": {
        "id": "view-in-github",
        "colab_type": "text"
      },
      "source": [
        "<a href=\"https://colab.research.google.com/github/drag0o0n/FDMA-signals/blob/main/Copy_of_FilterAudioSignal_SpecificBandwidth.ipynb\" target=\"_parent\"><img src=\"https://colab.research.google.com/assets/colab-badge.svg\" alt=\"Open In Colab\"/></a>"
      ]
    },
    {
      "cell_type": "markdown",
      "metadata": {
        "id": "GJ9Jmyt8guJt"
      },
      "source": [
        "Ahmad Barhoum // 1183231\n",
        "Communication Project"
      ]
    },
    {
      "cell_type": "markdown",
      "metadata": {
        "id": "Vnh9EDUFObuG"
      },
      "source": [
        "Python code will read the input as a (.wav) file which is a type of audio files taking from it the samplig rate and the data as an array.\n",
        "the program will plot the time and frequency plots for the signal read from the audio file.\n",
        "the user is asked to enter the suitable filter bandwidth to cut the frequnecy above (-Bw) and (BW) then the signal after the filteration will be plotted in time and frequency domains"
      ]
    },
    {
      "cell_type": "code",
      "execution_count": 2,
      "metadata": {
        "colab": {
          "base_uri": "https://localhost:8080/",
          "height": 391
        },
        "id": "j9uEa7GzIP-E",
        "outputId": "5e6b2deb-78ad-41e4-ddaa-307aa861d88c"
      },
      "outputs": [
        {
          "output_type": "error",
          "ename": "FileNotFoundError",
          "evalue": "ignored",
          "traceback": [
            "\u001b[0;31m---------------------------------------------------------------------------\u001b[0m",
            "\u001b[0;31mFileNotFoundError\u001b[0m                         Traceback (most recent call last)",
            "\u001b[0;32m<ipython-input-2-daa3021ce9d7>\u001b[0m in \u001b[0;36m<module>\u001b[0;34m()\u001b[0m\n\u001b[1;32m     18\u001b[0m \u001b[0;31m#read the data from the file and take and return the sample rate in Samples/sec and data from\u001b[0m\u001b[0;34m\u001b[0m\u001b[0;34m\u001b[0m\u001b[0;34m\u001b[0m\u001b[0m\n\u001b[1;32m     19\u001b[0m \u001b[0;31m#the .wav file in array\u001b[0m\u001b[0;34m\u001b[0m\u001b[0;34m\u001b[0m\u001b[0;34m\u001b[0m\u001b[0m\n\u001b[0;32m---> 20\u001b[0;31m \u001b[0msampleRate\u001b[0m\u001b[0;34m,\u001b[0m \u001b[0mdata\u001b[0m \u001b[0;34m=\u001b[0m \u001b[0mwavfile\u001b[0m\u001b[0;34m.\u001b[0m\u001b[0mread\u001b[0m\u001b[0;34m(\u001b[0m\u001b[0mWaveFile\u001b[0m\u001b[0;34m)\u001b[0m\u001b[0;34m\u001b[0m\u001b[0;34m\u001b[0m\u001b[0m\n\u001b[0m\u001b[1;32m     21\u001b[0m \u001b[0;32mif\u001b[0m \u001b[0mlen\u001b[0m\u001b[0;34m(\u001b[0m\u001b[0mdata\u001b[0m\u001b[0;34m.\u001b[0m\u001b[0mshape\u001b[0m\u001b[0;34m)\u001b[0m \u001b[0;34m>\u001b[0m \u001b[0;36m1\u001b[0m\u001b[0;34m:\u001b[0m\u001b[0;34m\u001b[0m\u001b[0;34m\u001b[0m\u001b[0m\n\u001b[1;32m     22\u001b[0m    \u001b[0mdata\u001b[0m\u001b[0;34m=\u001b[0m\u001b[0mdata\u001b[0m\u001b[0;34m[\u001b[0m\u001b[0;34m:\u001b[0m\u001b[0;34m,\u001b[0m\u001b[0;36m0\u001b[0m\u001b[0;34m]\u001b[0m\u001b[0;34m\u001b[0m\u001b[0;34m\u001b[0m\u001b[0m\n",
            "\u001b[0;32m/usr/local/lib/python3.7/dist-packages/scipy/io/wavfile.py\u001b[0m in \u001b[0;36mread\u001b[0;34m(filename, mmap)\u001b[0m\n\u001b[1;32m    262\u001b[0m         \u001b[0mmmap\u001b[0m \u001b[0;34m=\u001b[0m \u001b[0;32mFalse\u001b[0m\u001b[0;34m\u001b[0m\u001b[0;34m\u001b[0m\u001b[0m\n\u001b[1;32m    263\u001b[0m     \u001b[0;32melse\u001b[0m\u001b[0;34m:\u001b[0m\u001b[0;34m\u001b[0m\u001b[0;34m\u001b[0m\u001b[0m\n\u001b[0;32m--> 264\u001b[0;31m         \u001b[0mfid\u001b[0m \u001b[0;34m=\u001b[0m \u001b[0mopen\u001b[0m\u001b[0;34m(\u001b[0m\u001b[0mfilename\u001b[0m\u001b[0;34m,\u001b[0m \u001b[0;34m'rb'\u001b[0m\u001b[0;34m)\u001b[0m\u001b[0;34m\u001b[0m\u001b[0;34m\u001b[0m\u001b[0m\n\u001b[0m\u001b[1;32m    265\u001b[0m \u001b[0;34m\u001b[0m\u001b[0m\n\u001b[1;32m    266\u001b[0m     \u001b[0;32mtry\u001b[0m\u001b[0;34m:\u001b[0m\u001b[0;34m\u001b[0m\u001b[0;34m\u001b[0m\u001b[0m\n",
            "\u001b[0;31mFileNotFoundError\u001b[0m: [Errno 2] No such file or directory: '/content/FDMAMixedAudio12.wav'"
          ]
        }
      ],
      "source": [
        "#importing all necessary libraries to use functions from them\n",
        "import matplotlib.pyplot as PLot\n",
        "import numpy as np\n",
        "import random\n",
        "import scipy\n",
        "import wave\n",
        "import struct\n",
        "import pylab\n",
        "import pdb\n",
        "from scipy.io import wavfile\n",
        "\n",
        "import scipy.fftpack as fftpk\n",
        "#the file contains the wave name\n",
        "WaveFile = '/content/FDMAMixedAudio12.wav'\n",
        "filenameWavefiltered='./Filtered.wav'\n",
        "\n",
        "\n",
        "#read the data from the file and take and return the sample rate in Samples/sec and data from\n",
        "#the .wav file in array\n",
        "sampleRate, data = wavfile.read(WaveFile)\n",
        "if len(data.shape) > 1:\n",
        "   data=data[:,0]\n",
        "filtereddata = np.fft.rfft(data, axis=0)\n",
        "\n",
        "filteredwrite = np.fft.irfft(filtereddata, axis=0)\n",
        "print(sampleRate)#print out the sample rate for the wave read\n",
        "#print the array contains the numeric data for the signal\n",
        "print(data)\n",
        "\n",
        "#calculating the duration\n",
        "duration = len(data)/sampleRate\n",
        "#setting time vector\n",
        "D =len(data)*(1.0/sampleRate)\n",
        "#arrange function takes \n",
        "#start point set as 0 \n",
        "#stop value set as D\n",
        "#step size which is the sampling interval \n",
        "TSSS=1.0/sampleRate\n",
        "time= np.arange(0,len(data)*TSSS,TSSS) \n",
        "\n",
        "y = [float(x) for x in data]\n",
        "\n",
        "read=1\n",
        "write=1\n",
        "\n",
        "\n",
        "if write!=0:\n",
        "\n",
        "  fileHandl = open(\"Text.txt\", \"w\")#write on text file\n",
        "  for i in range(len(y)):\n",
        "    fileHandl.write(str(y[i])+ \" \" + str(float(time[i]))+\"\\n\")\n",
        "  fileHandl.close()\n",
        "\n",
        "if read !=0:\n",
        "  with open(\"Text.txt\") as FFILE:\n",
        "    w=FFILE.read()\n",
        "  y=[];\n",
        "  t=[];\n",
        "  for x in w.split('\\n'): #splitting lines \n",
        "    if x != '':\n",
        "      y.append(float(x.split()[0]))\n",
        "      t.append(float(x.split()[1]))\n",
        "\n",
        "\n",
        "\n",
        "\n",
        "\n",
        "\n",
        "\n",
        "\n",
        "\n",
        "#this used for plotting the results we got for the signal\n",
        "#in both time and frequency domain\n",
        "PLot.plot(time,data)\n",
        "PLot.xlabel('TIME Sec')\n",
        "PLot.ylabel('Amplitude')\n",
        "PLot.title('Audio1 Time domain')\n",
        "PLot.show()\n",
        "#next function will compute the discrete fourier transform(DFT)\n",
        "#by using a method called Fast Fourier Transform\n",
        "\n",
        "FFT = abs(scipy.fft(data))\n",
        "freqs = fftpk.fftfreq(len(FFT), (1/sampleRate) )\n",
        "\n",
        "PLot.plot(freqs[range(len(FFT)//2)], FFT[range(len(FFT)//2)])\n",
        "PLot.xlabel('Frequency Hz')\n",
        "PLot.ylabel('Amplitude')\n",
        "      # reading the info from the wavefile (.wav)\n",
        "#*****************************************\n",
        "BWrange=20000 #plot bandwidth range\n",
        "DataLength = len(data)\n",
        "K = np.arange(DataLength)\n",
        "frq = K/duration #2side frequency\n",
        "fcen=frq[int(len(frq)/2)]\n",
        "\n",
        "\n",
        "frq_DoubleSide = frq-fcen\n",
        "\n",
        "\n",
        "\n",
        "\n",
        "frq_SingleSide = frq[range(int(DataLength/2))]\n",
        "Y=np.fft.fft(data)\n",
        "yinv=np.fft.ifft(Y).real\n",
        "\n",
        "\n",
        "#roll data for plotting the 2 sides for signal\n",
        "Y_DoubleSide=np.roll(Y,int(DataLength/2))\n",
        "Y_SingleSide = Y[range(int(DataLength/2))]\n",
        "fcenindex=(np.abs(frq_DoubleSide)).argmin()\n",
        "Rangeindex=(np.abs(frq_DoubleSide-BWrange)).argmin()-fcenindex\n",
        "rangeindexmin = fcenindex-Rangeindex\n",
        "\n",
        "if rangeindexmin <0:\n",
        "  rangeindexmin =0\n",
        "\n",
        "rangeindexmax = fcenindex+Rangeindex\n",
        "if rangeindexmax > len(frq_DoubleSide)-1:\n",
        "  rangeindexmax =len(frq_DoubleSide)-1\n",
        "\n",
        "\n",
        "\n",
        "PLot.plot(time,data)\n",
        "PLot.xlabel('Frequency')\n",
        "PLot.ylabel('Amplitude')\n",
        "PLot.title('Audio1 Frequency domain, not 2 sides correct')\n",
        "PLot.show()\n",
        "\n",
        "\n",
        "PLot.plot(frq_DoubleSide[rangeindexmin: rangeindexmax], abs (Y_DoubleSide [rangeindexmin:rangeindexmax]),'r')\n",
        "PLot.show()\n",
        "\n",
        "\n",
        "\n",
        "#generation of new signal\n",
        "\n",
        "\n",
        "SignalLength = len(y)\n",
        "KK = np.arange(SignalLength)\n",
        "TT = SignalLength/ sampleRate\n",
        "frequency = KK/TT\n",
        "fcen1 = frequency[int(len(frequency)/2)]\n",
        "frequency_Doubleside = frequency - fcen1\n",
        "frequence_Singleside = frequency[range(int(SignalLength/2))]\n",
        "\n",
        "BW = input(\"please enter the bandwidth \")\n",
        "BW = int(BW)\n",
        "\n",
        "\n",
        "fBWIndex = (np.abs(frq_DoubleSide - BW)).argmin()\n",
        "BW = frq_DoubleSide[fBWIndex]\n",
        "\n",
        "\n",
        "\n",
        "Mask_DS=np.ones(len(frq_DoubleSide))\n",
        "Yf_DS=np.copy(Y_DoubleSide)\n",
        "Bmax=frq_DoubleSide[len(frq_DoubleSide)-1]\n",
        "Bmin=0\n",
        "Bold=0\n",
        "\n",
        "\n",
        "\n",
        "Yf_DS=np.copy(Y_DoubleSide)\n",
        "for cnt in range(len(frq_DoubleSide)):\n",
        "  if ~(((frq_DoubleSide[cnt])>-1*BW) and ((frq_DoubleSide[cnt])<BW)):\n",
        "    Mask_DS[cnt]=0;\n",
        "    Yf_DS[cnt]=Y_DoubleSide[cnt]*0;\n",
        "\n",
        "\n",
        "\n",
        "\n",
        "Yf=np.roll(Yf_DS,int(SignalLength/2))\n",
        "yinv= np.fft.ifft(Yf).real # ifft computing and normalization\n",
        "yinv=np.array(yinv)\n",
        "yinv_int=yinv.astype(np.int16)\n",
        "PLot.plot(time,Yf_DS)\n",
        "\n",
        "wavfile.write(filenameWavefiltered, sampleRate, yinv_int)\n",
        "\n",
        "fig, axs = PLot.subplots(3, 1,  figsize=(16, 9))\n",
        "axs[0].plot(frq_DoubleSide[rangeindexmin:rangeindexmax],abs(Mask_DS[rangeindexmin:rangeindexmax]),'r') # plotting the spectrum\n",
        "axs[0].set_xlabel('filterFreq (Hz)')\n",
        "axs[0].set_ylabel('filtet|H(freq)|')\n",
        "axs[1].plot(frq_DoubleSide[rangeindexmin:rangeindexmax],abs(Yf_DS[rangeindexmin:rangeindexmax]),'r') # plotting the spectrum\n",
        "axs[1].set_xlabel('Fererreq (Hz)')\n",
        "axs[1].set_ylabel('ferfer|Y(freq)|')\n",
        "axs[2].plot(t,yinv,'eferg') # plotting the spectrum\n",
        "axs[2].set_xlabel('ferTime')\n",
        "axs[2].set_ylabel('ferfAmplitude')\n",
        "\n",
        "PLot.show()\n",
        "\n",
        "\n",
        "\n"
      ]
    },
    {
      "cell_type": "markdown",
      "metadata": {
        "id": "hSVW1VN5h1S3"
      },
      "source": [
        "the plots are shown in above section"
      ]
    },
    {
      "cell_type": "markdown",
      "metadata": {
        "id": "F17Y2Mgrh4zP"
      },
      "source": [
        ""
      ]
    },
    {
      "cell_type": "markdown",
      "metadata": {
        "id": "cdRqaWTVOR--"
      },
      "source": [
        "Play the Original Audio Signal"
      ]
    },
    {
      "cell_type": "code",
      "execution_count": null,
      "metadata": {
        "colab": {
          "background_save": true
        },
        "id": "nSPxh-msMUmf",
        "outputId": "948d1e4b-18d5-4d30-a336-c3af433cef4f"
      },
      "outputs": [],
      "source": [
        "from IPython.display import Audio\n",
        "# Generate a player for mono sound\n",
        "Audio(data,rate=sampleRate)"
      ]
    },
    {
      "cell_type": "markdown",
      "metadata": {
        "id": "X6_vbxoEOVam"
      },
      "source": [
        "Play the filtered Audio Signal\n",
        "\n",
        "Filtered"
      ]
    },
    {
      "cell_type": "code",
      "execution_count": null,
      "metadata": {
        "colab": {
          "background_save": true,
          "base_uri": "https://localhost:8080/",
          "height": 76
        },
        "id": "m3BTMnxzMdyu",
        "outputId": "3cf16b2b-6fdf-4d0a-bcd3-8574f984447c"
      },
      "outputs": [],
      "source": [
        "from IPython.display import Audio\n",
        "# Generate a player for mono sound\n",
        "Audio(yinv,rate=sampleRate)"
      ]
    }
  ],
  "metadata": {
    "colab": {
      "collapsed_sections": [],
      "name": "Copy of FilterAudioSignal_SpecificBandwidth.ipynb",
      "provenance": [],
      "include_colab_link": true
    },
    "kernelspec": {
      "display_name": "Python 3",
      "name": "python3"
    },
    "language_info": {
      "name": "python"
    }
  },
  "nbformat": 4,
  "nbformat_minor": 0
}